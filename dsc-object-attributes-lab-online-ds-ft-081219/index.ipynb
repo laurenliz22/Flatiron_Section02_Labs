{
 "cells": [
  {
   "cell_type": "markdown",
   "metadata": {
    "toc": true
   },
   "source": [
    "<h1>Table of Contents<span class=\"tocSkip\"></span></h1>\n",
    "<div class=\"toc\"><ul class=\"toc-item\"><li><span><a href=\"#Object-Attributes---Lab\" data-toc-modified-id=\"Object-Attributes---Lab-1\"><span class=\"toc-item-num\">1&nbsp;&nbsp;</span>Object Attributes - Lab</a></span><ul class=\"toc-item\"><li><span><a href=\"#Introduction\" data-toc-modified-id=\"Introduction-1.1\"><span class=\"toc-item-num\">1.1&nbsp;&nbsp;</span>Introduction</a></span></li><li><span><a href=\"#Objectives\" data-toc-modified-id=\"Objectives-1.2\"><span class=\"toc-item-num\">1.2&nbsp;&nbsp;</span>Objectives</a></span></li><li><span><a href=\"#Defining-Classes-and-Instance-Methods\" data-toc-modified-id=\"Defining-Classes-and-Instance-Methods-1.3\"><span class=\"toc-item-num\">1.3&nbsp;&nbsp;</span>Defining Classes and Instance Methods</a></span></li><li><span><a href=\"#Summary\" data-toc-modified-id=\"Summary-1.4\"><span class=\"toc-item-num\">1.4&nbsp;&nbsp;</span>Summary</a></span></li></ul></li></ul></div>"
   ]
  },
  {
   "cell_type": "markdown",
   "metadata": {},
   "source": [
    "# Object Attributes - Lab"
   ]
  },
  {
   "cell_type": "markdown",
   "metadata": {},
   "source": [
    "## Introduction\n",
    "In this lab, you'll practice defining classes and instance methods. "
   ]
  },
  {
   "cell_type": "markdown",
   "metadata": {},
   "source": [
    "## Objectives\n",
    "\n",
    "You will be able to:\n",
    "\n",
    "* Practice defining classes and instantiating instances of those classes\n",
    "* Practice defining instance methods"
   ]
  },
  {
   "cell_type": "markdown",
   "metadata": {},
   "source": [
    "## Defining Classes and Instance Methods"
   ]
  },
  {
   "cell_type": "markdown",
   "metadata": {},
   "source": [
    "In the cell below define a `Driver` class.\n",
    "\n",
    "For this class, create a method called `greet_passenger`, which returns the string `Hello! I'll be your driver today. My name is ` followed by that driver's first name and last name (i.e. `Hello! I'll be your driver today. My name is John Doe`). (Be sure to keep in mind that the driver's name will be stored under two seperate attributes: first and last.)"
   ]
  },
  {
   "cell_type": "code",
   "execution_count": 6,
   "metadata": {
    "ExecuteTime": {
     "end_time": "2019-09-11T18:38:23.882727Z",
     "start_time": "2019-09-11T18:38:23.868799Z"
    }
   },
   "outputs": [],
   "source": [
    "# Define Driver Class here with properties for each instance variable\n",
    "class Driver(object):\n",
    "    def greet_passenger(self):\n",
    "        return f\"Hello! I'll be your driver today. My name is {self.fname} {self.lname}\"\n",
    "john = Driver()\n",
    "john.fname = \"John\"\n",
    "john.lname = \"Doe\""
   ]
  },
  {
   "cell_type": "markdown",
   "metadata": {},
   "source": [
    "Great! Now create an instance of your driver class. Then, create the following attributes for your instance:\n",
    "* first - the first name of the driver. Set it to Matthew.\n",
    "* last - the last name of the driver. Set it to Mitchell.\n",
    "* miles_driven - the number of miles driven by the driver. Set it to 100.\n",
    "* rating - the drivers rating. Set it to 4.9\n",
    "\n",
    "Finally, use your `greet_passenger1` method for your Driver instance object."
   ]
  },
  {
   "cell_type": "code",
   "execution_count": 13,
   "metadata": {
    "ExecuteTime": {
     "end_time": "2019-09-11T18:41:09.027942Z",
     "start_time": "2019-09-11T18:41:09.021949Z"
    }
   },
   "outputs": [],
   "source": [
    "#Create an instance with the above 4 attributes and then call the greet_passenger method\n",
    "d1 = Driver()\n",
    "d1.fname = 'Matthew'\n",
    "d1.lname = 'Mitchell'\n",
    "d1.miles_driven = 100\n",
    "d1.rating = 4.9\n",
    "greet = d1.greet_passenger()"
   ]
  },
  {
   "cell_type": "markdown",
   "metadata": {},
   "source": [
    "Now, create a passenger class with one method `yell_name` which prints the passengers first and last name in all caps. (Again first and last will be stored as seperate attributes.)"
   ]
  },
  {
   "cell_type": "code",
   "execution_count": 26,
   "metadata": {
    "ExecuteTime": {
     "end_time": "2019-09-11T18:47:59.584538Z",
     "start_time": "2019-09-11T18:47:59.579365Z"
    }
   },
   "outputs": [],
   "source": [
    "# Define Passenger Class here with properties for each instance variable\n",
    "class Passenger(object):\n",
    "    def yell_name(self):\n",
    "        print(self.fname.upper() + \" \" + self.lname.upper())"
   ]
  },
  {
   "cell_type": "markdown",
   "metadata": {},
   "source": [
    "Create an instance of your passenger class. Then create an attribute \"first\" set to \"Ron\" and an attribute \"last\" set to \"Burgundy\". Then call the `yell_name` method."
   ]
  },
  {
   "cell_type": "code",
   "execution_count": 28,
   "metadata": {
    "ExecuteTime": {
     "end_time": "2019-09-11T18:48:23.269739Z",
     "start_time": "2019-09-11T18:48:23.262658Z"
    }
   },
   "outputs": [
    {
     "name": "stdout",
     "output_type": "stream",
     "text": [
      "RON BURGUNDY\n"
     ]
    }
   ],
   "source": [
    "#Create an instance of the passenger class with the first and last attributes. Then call the yell_name method\n",
    "p1 = Passenger()\n",
    "p1.fname = \"Ron\"\n",
    "p1.lname = \"Burgundy\"\n",
    "p1.yell_name()"
   ]
  },
  {
   "cell_type": "markdown",
   "metadata": {},
   "source": [
    "Great work!"
   ]
  },
  {
   "cell_type": "markdown",
   "metadata": {},
   "source": [
    "## Summary\n",
    "In this lab, you practiced defining classes, creating instances of said classes, and using methods that made calls to object attributes."
   ]
  }
 ],
 "metadata": {
  "kernelspec": {
   "display_name": "Python 3",
   "language": "python",
   "name": "python3"
  },
  "language_info": {
   "codemirror_mode": {
    "name": "ipython",
    "version": 3
   },
   "file_extension": ".py",
   "mimetype": "text/x-python",
   "name": "python",
   "nbconvert_exporter": "python",
   "pygments_lexer": "ipython3",
   "version": "3.6.6"
  },
  "toc": {
   "base_numbering": 1,
   "nav_menu": {},
   "number_sections": true,
   "sideBar": true,
   "skip_h1_title": false,
   "title_cell": "Table of Contents",
   "title_sidebar": "Contents",
   "toc_cell": true,
   "toc_position": {},
   "toc_section_display": true,
   "toc_window_display": false
  }
 },
 "nbformat": 4,
 "nbformat_minor": 2
}

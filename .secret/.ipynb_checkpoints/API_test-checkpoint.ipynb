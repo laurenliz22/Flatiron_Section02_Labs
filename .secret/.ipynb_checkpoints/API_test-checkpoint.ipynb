{
 "cells": [
  {
   "cell_type": "markdown",
   "metadata": {
    "toc": true
   },
   "source": [
    "<h1>Table of Contents<span class=\"tocSkip\"></span></h1>\n",
    "<div class=\"toc\"><ul class=\"toc-item\"></ul></div>"
   ]
  },
  {
   "cell_type": "code",
   "execution_count": 5,
   "metadata": {
    "ExecuteTime": {
     "end_time": "2019-09-13T19:56:06.902233Z",
     "start_time": "2019-09-13T19:56:06.892061Z"
    }
   },
   "outputs": [],
   "source": [
    "import json\n",
    "\n",
    "def get_keys(path):\n",
    "    with open(path) as f:\n",
    "        return json.load(f)"
   ]
  },
  {
   "cell_type": "code",
   "execution_count": 12,
   "metadata": {
    "ExecuteTime": {
     "end_time": "2019-09-13T19:58:02.420824Z",
     "start_time": "2019-09-13T19:58:02.414650Z"
    }
   },
   "outputs": [],
   "source": [
    "keys = get_keys(\"/Users/lauren/Desktop/FlatironCourseMaterial/Flatiron_Section02_Labs/.secret/yelp_api.json\")\n",
    "\n",
    "api_key = keys['api_key'] #do not print out api_key into github!"
   ]
  },
  {
   "cell_type": "code",
   "execution_count": 15,
   "metadata": {
    "ExecuteTime": {
     "end_time": "2019-09-13T20:03:34.551682Z",
     "start_time": "2019-09-13T20:03:32.898199Z"
    }
   },
   "outputs": [
    {
     "name": "stdout",
     "output_type": "stream",
     "text": [
      "<Response [200]>\n",
      "<class 'str'>\n",
      "{\"businesses\": [{\"id\": \"AUyKmFjpaVLwc3awfUnqgQ\", \"alias\": \"chela-and-garnacha-astoria\", \"name\": \"Chela & Garnacha\", \"image_url\": \"https://s3-media1.fl.yelpcdn.com/bphoto/ChVbA1_xqLHFXL4Iyh84NA/o.jpg\", \"is_closed\": false, \"url\": \"https://www.yelp.com/biz/chela-and-garnacha-astoria?adjust_creative=uDQRndJa1gYPqLVwzbcdtA&utm_campaign=yelp_api_v3&utm_medium=api_v3_business_search&utm_source=uDQRndJa1gYPqLVwzbcdtA\", \"review_count\": 361, \"categories\": [{\"alias\": \"mexican\", \"title\": \"Mexican\"}, {\"alias\": \"wine_bars\", \"title\": \"Wine Bars\"}, {\"alias\": \"breakfast_brunch\", \"title\": \"Breakfast & Brunch\"}], \"rating\": 4.5, \"coordinates\": {\"latitude\": 40.7557171543477, \"longitude\": -73.927811292412}, \"transactions\": [\"delivery\", \"pickup\"], \"price\": \"$$\", \"location\": {\"address1\": \"33-09 36th Ave\", \"address2\": \"\", \"address3\": \"\", \"city\": \"Astoria\", \"zip_code\": \"11106\", \"country\": \"US\", \"state\": \"NY\", \"display_address\": [\"33-09 36th Ave\", \"Astoria, NY 11106\"]}, \"phone\": \"+19178326876\", \"display_phone\": \n"
     ]
    }
   ],
   "source": [
    "import requests\n",
    "term = 'Mexican'\n",
    "location = 'Astoria NY'\n",
    "SEARCH_LIMIT = 10\n",
    "\n",
    "url = 'https://api.yelp.com/v3/businesses/search'\n",
    "\n",
    "headers = {\n",
    "        'Authorization': 'Bearer {}'.format(api_key),\n",
    "    }\n",
    "\n",
    "url_params = {\n",
    "                'term': term.replace(' ', '+'),\n",
    "                'location': location.replace(' ', '+'),\n",
    "                'limit': SEARCH_LIMIT\n",
    "            }\n",
    "response = requests.get(url, headers=headers, params=url_params)\n",
    "print(response)\n",
    "print(type(response.text))\n",
    "print(response.text[:1000])"
   ]
  },
  {
   "cell_type": "code",
   "execution_count": 16,
   "metadata": {
    "ExecuteTime": {
     "end_time": "2019-09-13T20:04:55.003205Z",
     "start_time": "2019-09-13T20:04:54.992886Z"
    }
   },
   "outputs": [
    {
     "data": {
      "text/plain": [
       "dict_keys(['businesses', 'total', 'region'])"
      ]
     },
     "execution_count": 16,
     "metadata": {},
     "output_type": "execute_result"
    }
   ],
   "source": [
    "response.json().keys()"
   ]
  },
  {
   "cell_type": "code",
   "execution_count": 17,
   "metadata": {
    "ExecuteTime": {
     "end_time": "2019-09-13T20:05:14.472648Z",
     "start_time": "2019-09-13T20:05:14.460589Z"
    }
   },
   "outputs": [
    {
     "name": "stdout",
     "output_type": "stream",
     "text": [
      "businesses\n",
      "<class 'list'>\n",
      "\n",
      "\n",
      "\n",
      "total\n",
      "<class 'int'>\n",
      "\n",
      "\n",
      "\n",
      "region\n",
      "<class 'dict'>\n",
      "\n",
      "\n",
      "\n"
     ]
    }
   ],
   "source": [
    "for key in response.json().keys():\n",
    "    print(key)\n",
    "    value = response.json()[key] #Use standard dictionary formatting\n",
    "    print(type(value)) #What type is it?\n",
    "    print('\\n\\n') #Separate out data"
   ]
  },
  {
   "cell_type": "code",
   "execution_count": 18,
   "metadata": {
    "ExecuteTime": {
     "end_time": "2019-09-13T20:05:44.728284Z",
     "start_time": "2019-09-13T20:05:44.716386Z"
    }
   },
   "outputs": [
    {
     "data": {
      "text/plain": [
       "[{'id': 'AUyKmFjpaVLwc3awfUnqgQ',\n",
       "  'alias': 'chela-and-garnacha-astoria',\n",
       "  'name': 'Chela & Garnacha',\n",
       "  'image_url': 'https://s3-media1.fl.yelpcdn.com/bphoto/ChVbA1_xqLHFXL4Iyh84NA/o.jpg',\n",
       "  'is_closed': False,\n",
       "  'url': 'https://www.yelp.com/biz/chela-and-garnacha-astoria?adjust_creative=uDQRndJa1gYPqLVwzbcdtA&utm_campaign=yelp_api_v3&utm_medium=api_v3_business_search&utm_source=uDQRndJa1gYPqLVwzbcdtA',\n",
       "  'review_count': 361,\n",
       "  'categories': [{'alias': 'mexican', 'title': 'Mexican'},\n",
       "   {'alias': 'wine_bars', 'title': 'Wine Bars'},\n",
       "   {'alias': 'breakfast_brunch', 'title': 'Breakfast & Brunch'}],\n",
       "  'rating': 4.5,\n",
       "  'coordinates': {'latitude': 40.7557171543477, 'longitude': -73.927811292412},\n",
       "  'transactions': ['delivery', 'pickup'],\n",
       "  'price': '$$',\n",
       "  'location': {'address1': '33-09 36th Ave',\n",
       "   'address2': '',\n",
       "   'address3': '',\n",
       "   'city': 'Astoria',\n",
       "   'zip_code': '11106',\n",
       "   'country': 'US',\n",
       "   'state': 'NY',\n",
       "   'display_address': ['33-09 36th Ave', 'Astoria, NY 11106']},\n",
       "  'phone': '+19178326876',\n",
       "  'display_phone': '(917) 832-6876',\n",
       "  'distance': 1318.3265473785546},\n",
       " {'id': '6AJwsgXr7YwsqneGVAdgzw',\n",
       "  'alias': 'las-catrinas-mexican-bar-and-eatery-astoria',\n",
       "  'name': 'Las Catrinas Mexican Bar & Eatery',\n",
       "  'image_url': 'https://s3-media3.fl.yelpcdn.com/bphoto/3uevye47llEi-lAXf5RYPw/o.jpg',\n",
       "  'is_closed': False,\n",
       "  'url': 'https://www.yelp.com/biz/las-catrinas-mexican-bar-and-eatery-astoria?adjust_creative=uDQRndJa1gYPqLVwzbcdtA&utm_campaign=yelp_api_v3&utm_medium=api_v3_business_search&utm_source=uDQRndJa1gYPqLVwzbcdtA',\n",
       "  'review_count': 293,\n",
       "  'categories': [{'alias': 'mexican', 'title': 'Mexican'},\n",
       "   {'alias': 'cocktailbars', 'title': 'Cocktail Bars'}],\n",
       "  'rating': 4.0,\n",
       "  'coordinates': {'latitude': 40.7614214682633,\n",
       "   'longitude': -73.9246649456171},\n",
       "  'transactions': ['delivery', 'pickup'],\n",
       "  'price': '$$',\n",
       "  'location': {'address1': '32-02 Broadway',\n",
       "   'address2': '',\n",
       "   'address3': None,\n",
       "   'city': 'Astoria',\n",
       "   'zip_code': '11106',\n",
       "   'country': 'US',\n",
       "   'state': 'NY',\n",
       "   'display_address': ['32-02 Broadway', 'Astoria, NY 11106']},\n",
       "  'phone': '+19177450969',\n",
       "  'display_phone': '(917) 745-0969',\n",
       "  'distance': 642.5257707161409}]"
      ]
     },
     "execution_count": 18,
     "metadata": {},
     "output_type": "execute_result"
    }
   ],
   "source": [
    "response.json()['businesses'][:2]"
   ]
  },
  {
   "cell_type": "code",
   "execution_count": 19,
   "metadata": {
    "ExecuteTime": {
     "end_time": "2019-09-13T20:05:58.677804Z",
     "start_time": "2019-09-13T20:05:58.669244Z"
    }
   },
   "outputs": [
    {
     "data": {
      "text/plain": [
       "668"
      ]
     },
     "execution_count": 19,
     "metadata": {},
     "output_type": "execute_result"
    }
   ],
   "source": [
    "response.json()['total']"
   ]
  },
  {
   "cell_type": "code",
   "execution_count": 20,
   "metadata": {
    "ExecuteTime": {
     "end_time": "2019-09-13T20:06:03.963750Z",
     "start_time": "2019-09-13T20:06:03.952846Z"
    }
   },
   "outputs": [
    {
     "data": {
      "text/plain": [
       "{'center': {'longitude': -73.92219543457031, 'latitude': 40.76688875374591}}"
      ]
     },
     "execution_count": 20,
     "metadata": {},
     "output_type": "execute_result"
    }
   ],
   "source": [
    "response.json()['region']"
   ]
  },
  {
   "cell_type": "code",
   "execution_count": 21,
   "metadata": {
    "ExecuteTime": {
     "end_time": "2019-09-13T20:06:16.440447Z",
     "start_time": "2019-09-13T20:06:15.344382Z"
    }
   },
   "outputs": [
    {
     "name": "stdout",
     "output_type": "stream",
     "text": [
      "10\n",
      "Index(['alias', 'categories', 'coordinates', 'display_phone', 'distance', 'id',\n",
      "       'image_url', 'is_closed', 'location', 'name', 'phone', 'price',\n",
      "       'rating', 'review_count', 'transactions', 'url'],\n",
      "      dtype='object')\n"
     ]
    },
    {
     "data": {
      "text/html": [
       "<div>\n",
       "<style scoped>\n",
       "    .dataframe tbody tr th:only-of-type {\n",
       "        vertical-align: middle;\n",
       "    }\n",
       "\n",
       "    .dataframe tbody tr th {\n",
       "        vertical-align: top;\n",
       "    }\n",
       "\n",
       "    .dataframe thead th {\n",
       "        text-align: right;\n",
       "    }\n",
       "</style>\n",
       "<table border=\"1\" class=\"dataframe\">\n",
       "  <thead>\n",
       "    <tr style=\"text-align: right;\">\n",
       "      <th></th>\n",
       "      <th>alias</th>\n",
       "      <th>categories</th>\n",
       "      <th>coordinates</th>\n",
       "      <th>display_phone</th>\n",
       "      <th>distance</th>\n",
       "      <th>id</th>\n",
       "      <th>image_url</th>\n",
       "      <th>is_closed</th>\n",
       "      <th>location</th>\n",
       "      <th>name</th>\n",
       "      <th>phone</th>\n",
       "      <th>price</th>\n",
       "      <th>rating</th>\n",
       "      <th>review_count</th>\n",
       "      <th>transactions</th>\n",
       "      <th>url</th>\n",
       "    </tr>\n",
       "  </thead>\n",
       "  <tbody>\n",
       "    <tr>\n",
       "      <th>0</th>\n",
       "      <td>chela-and-garnacha-astoria</td>\n",
       "      <td>[{'alias': 'mexican', 'title': 'Mexican'}, {'a...</td>\n",
       "      <td>{'latitude': 40.7557171543477, 'longitude': -7...</td>\n",
       "      <td>(917) 832-6876</td>\n",
       "      <td>1318.326547</td>\n",
       "      <td>AUyKmFjpaVLwc3awfUnqgQ</td>\n",
       "      <td>https://s3-media1.fl.yelpcdn.com/bphoto/ChVbA1...</td>\n",
       "      <td>False</td>\n",
       "      <td>{'address1': '33-09 36th Ave', 'address2': '',...</td>\n",
       "      <td>Chela &amp; Garnacha</td>\n",
       "      <td>+19178326876</td>\n",
       "      <td>$$</td>\n",
       "      <td>4.5</td>\n",
       "      <td>361</td>\n",
       "      <td>[delivery, pickup]</td>\n",
       "      <td>https://www.yelp.com/biz/chela-and-garnacha-as...</td>\n",
       "    </tr>\n",
       "    <tr>\n",
       "      <th>1</th>\n",
       "      <td>las-catrinas-mexican-bar-and-eatery-astoria</td>\n",
       "      <td>[{'alias': 'mexican', 'title': 'Mexican'}, {'a...</td>\n",
       "      <td>{'latitude': 40.7614214682633, 'longitude': -7...</td>\n",
       "      <td>(917) 745-0969</td>\n",
       "      <td>642.525771</td>\n",
       "      <td>6AJwsgXr7YwsqneGVAdgzw</td>\n",
       "      <td>https://s3-media3.fl.yelpcdn.com/bphoto/3uevye...</td>\n",
       "      <td>False</td>\n",
       "      <td>{'address1': '32-02 Broadway', 'address2': '',...</td>\n",
       "      <td>Las Catrinas Mexican Bar &amp; Eatery</td>\n",
       "      <td>+19177450969</td>\n",
       "      <td>$$</td>\n",
       "      <td>4.0</td>\n",
       "      <td>293</td>\n",
       "      <td>[delivery, pickup]</td>\n",
       "      <td>https://www.yelp.com/biz/las-catrinas-mexican-...</td>\n",
       "    </tr>\n",
       "    <tr>\n",
       "      <th>2</th>\n",
       "      <td>de-mole-astoria-astoria</td>\n",
       "      <td>[{'alias': 'mexican', 'title': 'Mexican'}]</td>\n",
       "      <td>{'latitude': 40.7625999, 'longitude': -73.9129...</td>\n",
       "      <td>(718) 777-1655</td>\n",
       "      <td>918.092772</td>\n",
       "      <td>jzVv_21473lAMYXIhVbuTA</td>\n",
       "      <td>https://s3-media1.fl.yelpcdn.com/bphoto/zZTTfd...</td>\n",
       "      <td>False</td>\n",
       "      <td>{'address1': '4220 30th Ave', 'address2': '', ...</td>\n",
       "      <td>De Mole Astoria</td>\n",
       "      <td>+17187771655</td>\n",
       "      <td>$$</td>\n",
       "      <td>4.0</td>\n",
       "      <td>358</td>\n",
       "      <td>[delivery, pickup]</td>\n",
       "      <td>https://www.yelp.com/biz/de-mole-astoria-astor...</td>\n",
       "    </tr>\n",
       "    <tr>\n",
       "      <th>3</th>\n",
       "      <td>hoja-santa-astoria</td>\n",
       "      <td>[{'alias': 'newmexican', 'title': 'New Mexican...</td>\n",
       "      <td>{'latitude': 40.7638197, 'longitude': -73.914523}</td>\n",
       "      <td></td>\n",
       "      <td>751.531469</td>\n",
       "      <td>2jjxdN9FXWVdx6DEX83krQ</td>\n",
       "      <td>https://s3-media3.fl.yelpcdn.com/bphoto/xqo13E...</td>\n",
       "      <td>False</td>\n",
       "      <td>{'address1': '40-17 30th Ave', 'address2': '',...</td>\n",
       "      <td>Hoja Santa</td>\n",
       "      <td></td>\n",
       "      <td>NaN</td>\n",
       "      <td>5.0</td>\n",
       "      <td>30</td>\n",
       "      <td>[]</td>\n",
       "      <td>https://www.yelp.com/biz/hoja-santa-astoria?ad...</td>\n",
       "    </tr>\n",
       "    <tr>\n",
       "      <th>4</th>\n",
       "      <td>mi-espiguita-taqueria-astoria</td>\n",
       "      <td>[{'alias': 'mexican', 'title': 'Mexican'}]</td>\n",
       "      <td>{'latitude': 40.7612033639422, 'longitude': -7...</td>\n",
       "      <td>(718) 777-5648</td>\n",
       "      <td>714.301080</td>\n",
       "      <td>yvva7IYpD6J7OfKlCdQrkw</td>\n",
       "      <td>https://s3-media2.fl.yelpcdn.com/bphoto/TEho39...</td>\n",
       "      <td>False</td>\n",
       "      <td>{'address1': '32-44 31st St', 'address2': '', ...</td>\n",
       "      <td>Mi Espiguita Taqueria</td>\n",
       "      <td>+17187775648</td>\n",
       "      <td>$</td>\n",
       "      <td>4.5</td>\n",
       "      <td>110</td>\n",
       "      <td>[delivery, pickup]</td>\n",
       "      <td>https://www.yelp.com/biz/mi-espiguita-taqueria...</td>\n",
       "    </tr>\n",
       "  </tbody>\n",
       "</table>\n",
       "</div>"
      ],
      "text/plain": [
       "                                         alias  \\\n",
       "0                   chela-and-garnacha-astoria   \n",
       "1  las-catrinas-mexican-bar-and-eatery-astoria   \n",
       "2                      de-mole-astoria-astoria   \n",
       "3                           hoja-santa-astoria   \n",
       "4                mi-espiguita-taqueria-astoria   \n",
       "\n",
       "                                          categories  \\\n",
       "0  [{'alias': 'mexican', 'title': 'Mexican'}, {'a...   \n",
       "1  [{'alias': 'mexican', 'title': 'Mexican'}, {'a...   \n",
       "2         [{'alias': 'mexican', 'title': 'Mexican'}]   \n",
       "3  [{'alias': 'newmexican', 'title': 'New Mexican...   \n",
       "4         [{'alias': 'mexican', 'title': 'Mexican'}]   \n",
       "\n",
       "                                         coordinates   display_phone  \\\n",
       "0  {'latitude': 40.7557171543477, 'longitude': -7...  (917) 832-6876   \n",
       "1  {'latitude': 40.7614214682633, 'longitude': -7...  (917) 745-0969   \n",
       "2  {'latitude': 40.7625999, 'longitude': -73.9129...  (718) 777-1655   \n",
       "3  {'latitude': 40.7638197, 'longitude': -73.914523}                   \n",
       "4  {'latitude': 40.7612033639422, 'longitude': -7...  (718) 777-5648   \n",
       "\n",
       "      distance                      id  \\\n",
       "0  1318.326547  AUyKmFjpaVLwc3awfUnqgQ   \n",
       "1   642.525771  6AJwsgXr7YwsqneGVAdgzw   \n",
       "2   918.092772  jzVv_21473lAMYXIhVbuTA   \n",
       "3   751.531469  2jjxdN9FXWVdx6DEX83krQ   \n",
       "4   714.301080  yvva7IYpD6J7OfKlCdQrkw   \n",
       "\n",
       "                                           image_url  is_closed  \\\n",
       "0  https://s3-media1.fl.yelpcdn.com/bphoto/ChVbA1...      False   \n",
       "1  https://s3-media3.fl.yelpcdn.com/bphoto/3uevye...      False   \n",
       "2  https://s3-media1.fl.yelpcdn.com/bphoto/zZTTfd...      False   \n",
       "3  https://s3-media3.fl.yelpcdn.com/bphoto/xqo13E...      False   \n",
       "4  https://s3-media2.fl.yelpcdn.com/bphoto/TEho39...      False   \n",
       "\n",
       "                                            location  \\\n",
       "0  {'address1': '33-09 36th Ave', 'address2': '',...   \n",
       "1  {'address1': '32-02 Broadway', 'address2': '',...   \n",
       "2  {'address1': '4220 30th Ave', 'address2': '', ...   \n",
       "3  {'address1': '40-17 30th Ave', 'address2': '',...   \n",
       "4  {'address1': '32-44 31st St', 'address2': '', ...   \n",
       "\n",
       "                                name         phone price  rating  \\\n",
       "0                   Chela & Garnacha  +19178326876    $$     4.5   \n",
       "1  Las Catrinas Mexican Bar & Eatery  +19177450969    $$     4.0   \n",
       "2                    De Mole Astoria  +17187771655    $$     4.0   \n",
       "3                         Hoja Santa                 NaN     5.0   \n",
       "4              Mi Espiguita Taqueria  +17187775648     $     4.5   \n",
       "\n",
       "   review_count        transactions  \\\n",
       "0           361  [delivery, pickup]   \n",
       "1           293  [delivery, pickup]   \n",
       "2           358  [delivery, pickup]   \n",
       "3            30                  []   \n",
       "4           110  [delivery, pickup]   \n",
       "\n",
       "                                                 url  \n",
       "0  https://www.yelp.com/biz/chela-and-garnacha-as...  \n",
       "1  https://www.yelp.com/biz/las-catrinas-mexican-...  \n",
       "2  https://www.yelp.com/biz/de-mole-astoria-astor...  \n",
       "3  https://www.yelp.com/biz/hoja-santa-astoria?ad...  \n",
       "4  https://www.yelp.com/biz/mi-espiguita-taqueria...  "
      ]
     },
     "execution_count": 21,
     "metadata": {},
     "output_type": "execute_result"
    }
   ],
   "source": [
    "import pandas as pd\n",
    "\n",
    "df = pd.DataFrame.from_dict(response.json()['businesses'])\n",
    "print(len(df)) #Print how many rows\n",
    "print(df.columns) #Print column names\n",
    "df.head() #Previews the first five rows. \n",
    "#You could also write df.head(10) to preview 10 rows or df.tail() to see the bottom"
   ]
  },
  {
   "cell_type": "code",
   "execution_count": null,
   "metadata": {},
   "outputs": [],
   "source": []
  }
 ],
 "metadata": {
  "kernelspec": {
   "display_name": "learn-env",
   "language": "python",
   "name": "learn-env"
  },
  "language_info": {
   "codemirror_mode": {
    "name": "ipython",
    "version": 3
   },
   "file_extension": ".py",
   "mimetype": "text/x-python",
   "name": "python",
   "nbconvert_exporter": "python",
   "pygments_lexer": "ipython3",
   "version": "3.6.6"
  },
  "toc": {
   "base_numbering": 1,
   "nav_menu": {},
   "number_sections": true,
   "sideBar": true,
   "skip_h1_title": false,
   "title_cell": "Table of Contents",
   "title_sidebar": "Contents",
   "toc_cell": true,
   "toc_position": {},
   "toc_section_display": true,
   "toc_window_display": false
  }
 },
 "nbformat": 4,
 "nbformat_minor": 2
}

{
 "cells": [
  {
   "cell_type": "markdown",
   "metadata": {
    "toc": true
   },
   "source": [
    "<h1>Table of Contents<span class=\"tocSkip\"></span></h1>\n",
    "<div class=\"toc\"><ul class=\"toc-item\"><li><span><a href=\"#Web-Scraping---Lab\" data-toc-modified-id=\"Web-Scraping---Lab-1\"><span class=\"toc-item-num\">1&nbsp;&nbsp;</span>Web Scraping - Lab</a></span><ul class=\"toc-item\"><li><span><a href=\"#Introduction\" data-toc-modified-id=\"Introduction-1.1\"><span class=\"toc-item-num\">1.1&nbsp;&nbsp;</span>Introduction</a></span></li><li><span><a href=\"#Objectives\" data-toc-modified-id=\"Objectives-1.2\"><span class=\"toc-item-num\">1.2&nbsp;&nbsp;</span>Objectives</a></span></li><li><span><a href=\"#Lab-Overview\" data-toc-modified-id=\"Lab-Overview-1.3\"><span class=\"toc-item-num\">1.3&nbsp;&nbsp;</span>Lab Overview</a></span></li><li><span><a href=\"#Retrieving-Titles\" data-toc-modified-id=\"Retrieving-Titles-1.4\"><span class=\"toc-item-num\">1.4&nbsp;&nbsp;</span>Retrieving Titles</a></span></li><li><span><a href=\"#Retrieve-Ratings\" data-toc-modified-id=\"Retrieve-Ratings-1.5\"><span class=\"toc-item-num\">1.5&nbsp;&nbsp;</span>Retrieve Ratings</a></span></li><li><span><a href=\"#Retrieve-Prices\" data-toc-modified-id=\"Retrieve-Prices-1.6\"><span class=\"toc-item-num\">1.6&nbsp;&nbsp;</span>Retrieve Prices</a></span></li><li><span><a href=\"#Retrieve-Availability\" data-toc-modified-id=\"Retrieve-Availability-1.7\"><span class=\"toc-item-num\">1.7&nbsp;&nbsp;</span>Retrieve Availability</a></span></li><li><span><a href=\"#Create-a-Script-to-Retrieve-All-the-Books-From-All-50-Pages\" data-toc-modified-id=\"Create-a-Script-to-Retrieve-All-the-Books-From-All-50-Pages-1.8\"><span class=\"toc-item-num\">1.8&nbsp;&nbsp;</span>Create a Script to Retrieve All the Books From All 50 Pages</a></span></li><li><span><a href=\"#Level-Up:-Write-a-new-version-of-the-script-you-just-wrote.\" data-toc-modified-id=\"Level-Up:-Write-a-new-version-of-the-script-you-just-wrote.-1.9\"><span class=\"toc-item-num\">1.9&nbsp;&nbsp;</span>Level-Up: Write a new version of the script you just wrote.</a></span></li><li><span><a href=\"#Summary\" data-toc-modified-id=\"Summary-1.10\"><span class=\"toc-item-num\">1.10&nbsp;&nbsp;</span>Summary</a></span></li></ul></li></ul></div>"
   ]
  },
  {
   "cell_type": "markdown",
   "metadata": {},
   "source": [
    "# Web Scraping - Lab\n",
    "\n",
    "## Introduction\n",
    "\n",
    "Now that you've seen a more extensive example of developing a web scraping script, it's time to further practice and formalize that knowledge by writing functions to parse specific pieces of information from the web page and then synthesizing these into a larger loop that will iterate over successive web pages in order to build a complete dataset.\n",
    "\n",
    "## Objectives\n",
    "\n",
    "You will be able to:\n",
    "\n",
    "* Write functions to parse specific information from a web page\n",
    "* Iterate over successive web pages in order to create a dataset"
   ]
  },
  {
   "cell_type": "markdown",
   "metadata": {},
   "source": [
    "## Lab Overview\n",
    "\n",
    "This lab will build upon the previous lesson. In the end, you'll look to write a script that will iterate over all of the pages for the demo site and extract the title, price, star rating and availability of each book listed. Building up to that, you'll formalize the concepts from the lesson by writing functions that will extract a list of each of these features for each web page. You'll then combine these functions into the full script which will look something like this:  \n",
    "\n",
    "```python\n",
    "df = pd.DataFrame()\n",
    "for i in range(2,51):\n",
    "    url = \"http://books.toscrape.com/catalogue/page-{}.html\".format(i)\n",
    "    soup = BeautifulSoup(html_page.content, 'html.parser')\n",
    "    new_titles = retrieve_titles(soup)\n",
    "    new_star_ratings = retrieve_ratings(soup)\n",
    "    new_prices = retrieve_prices(soup)\n",
    "    new_avails = retrieve_avails(soup)\n",
    "    ...\n",
    " ```"
   ]
  },
  {
   "cell_type": "markdown",
   "metadata": {},
   "source": [
    "## Retrieving Titles\n",
    "\n",
    "To start, write a function that extracts the titles of the books on a given page. The input for the function should be the `soup` for the HTML of the page."
   ]
  },
  {
   "cell_type": "code",
   "execution_count": 5,
   "metadata": {
    "ExecuteTime": {
     "end_time": "2019-09-17T23:52:02.178519Z",
     "start_time": "2019-09-17T23:52:02.169964Z"
    }
   },
   "outputs": [],
   "source": [
    "def retrieve_titles(soup):\n",
    "    #Your code here\n",
    "    warning = soup.find('div', class_=\"alert alert-warning\")\n",
    "    book_container = warning.nextSibling.nextSibling\n",
    "    titles = [h3.find('a').attrs['title'] for h3 in book_container.findAll('h3')]\n",
    "    return titles"
   ]
  },
  {
   "cell_type": "markdown",
   "metadata": {},
   "source": [
    "## Retrieve Ratings\n",
    "\n",
    "Next, write a similar function to retrieve the star ratings on a given page. Again, the function should take in the `soup` from the given html page and return a list of the star-ratings for the books. These star ratings should be formatted as integers."
   ]
  },
  {
   "cell_type": "code",
   "execution_count": 6,
   "metadata": {
    "ExecuteTime": {
     "end_time": "2019-09-17T23:52:02.193988Z",
     "start_time": "2019-09-17T23:52:02.182718Z"
    }
   },
   "outputs": [],
   "source": [
    "def retrieve_ratings(soup):\n",
    "    #Your code here\n",
    "    warning = soup.find('div', class_=\"alert alert-warning\")\n",
    "    book_container = warning.nextSibling.nextSibling\n",
    "    star_dict = {'One': 1, 'Two': 2, 'Three':3, 'Four': 4, 'Five':5}\n",
    "    star_ratings = []\n",
    "    regex = re.compile(\"star-rating (.*)\")\n",
    "    for p in book_container.findAll('p', {\"class\" : regex}):\n",
    "        star_ratings.append(p.attrs['class'][-1])\n",
    "    star_ratings = [star_dict[s] for s in star_ratings]\n",
    "    return star_ratings"
   ]
  },
  {
   "cell_type": "markdown",
   "metadata": {},
   "source": [
    "## Retrieve Prices\n",
    "\n",
    "Now write a function to retrieve the prices on a given page. The function should take in the `soup` from the given page and return a list of prices formatted as floats."
   ]
  },
  {
   "cell_type": "code",
   "execution_count": 7,
   "metadata": {
    "ExecuteTime": {
     "end_time": "2019-09-17T23:52:02.205448Z",
     "start_time": "2019-09-17T23:52:02.198237Z"
    }
   },
   "outputs": [],
   "source": [
    "def retrieve_prices(soup):\n",
    "    #Your code here\n",
    "    warning = soup.find('div', class_=\"alert alert-warning\")\n",
    "    book_container = warning.nextSibling.nextSibling\n",
    "    prices = [p.text for p in book_container.findAll('p', class_=\"price_color\")]\n",
    "    prices = [float(p[1:]) for p in prices] #Removing the pound sign and converting to float\n",
    "    return prices"
   ]
  },
  {
   "cell_type": "markdown",
   "metadata": {},
   "source": [
    "## Retrieve Availability\n",
    "\n",
    "Write a function to retrieve whether each book is available or not. The function should take in the `soup` from a given html page and return a list of the availability for each book."
   ]
  },
  {
   "cell_type": "code",
   "execution_count": 8,
   "metadata": {
    "ExecuteTime": {
     "end_time": "2019-09-17T23:52:02.229856Z",
     "start_time": "2019-09-17T23:52:02.214867Z"
    }
   },
   "outputs": [],
   "source": [
    "def retrieve_availabilities(soup):\n",
    "    #Your code here\n",
    "    warning = soup.find('div', class_=\"alert alert-warning\")\n",
    "    book_container = warning.nextSibling.nextSibling\n",
    "    avails = [a.text.strip() for a in book_container.findAll('p', class_=\"instock availability\")]\n",
    "    return avails"
   ]
  },
  {
   "cell_type": "markdown",
   "metadata": {},
   "source": [
    "## Create a Script to Retrieve All the Books From All 50 Pages\n",
    "\n",
    "Finally, write a script to retrieve all of the information from all 50 pages of the books.toscrape.com website. "
   ]
  },
  {
   "cell_type": "code",
   "execution_count": null,
   "metadata": {
    "ExecuteTime": {
     "start_time": "2019-09-17T23:52:31.636Z"
    }
   },
   "outputs": [],
   "source": [
    "#Your code here\n",
    "import re\n",
    "import requests\n",
    "from bs4 import BeautifulSoup\n",
    "import pandas as pd\n",
    "\n",
    "titles = []\n",
    "star_ratings = []\n",
    "prices = []\n",
    "avails = []\n",
    "for i in range(1,51):\n",
    "    if i == 1:\n",
    "        url = 'http://books.toscrape.com/'\n",
    "    else:\n",
    "            url = \"http://books.toscrape.com/catalogue/page-{}.html\".format(i)\n",
    "    html_page = requests.get(url)\n",
    "    soup = BeautifulSoup(html_page.content, 'html.parser')\n",
    "    titles += retrieve_titles(soup)\n",
    "    star_ratings += retrieve_ratings(soup)\n",
    "    prices += retrieve_prices(soup)\n",
    "    avails += retrieve_availabilities(soup)\n",
    "df = pd.DataFrame([titles, star_ratings, prices, avails]).transpose()\n",
    "df.columns = ['Title', 'Star_Rating', 'Price_(pounds)', 'Availability']\n",
    "print(len(df))\n",
    "df.head()"
   ]
  },
  {
   "cell_type": "markdown",
   "metadata": {},
   "source": [
    "## Level-Up: Write a new version of the script you just wrote. \n",
    "\n",
    "If you used url hacking to generate each successive page url, instead write a function that retrieves the link from the `\"next\"` button at the bottom of the page. Conversely, if you already used this approach above, use URL-hacking (arguably the easier of the two methods in this case)."
   ]
  },
  {
   "cell_type": "code",
   "execution_count": null,
   "metadata": {
    "ExecuteTime": {
     "start_time": "2019-09-17T23:52:02.182Z"
    }
   },
   "outputs": [],
   "source": [
    "#Your code here"
   ]
  },
  {
   "cell_type": "markdown",
   "metadata": {},
   "source": [
    "## Summary\n",
    "\n",
    "Well done! You just completed your first full web scraping project! You're ready to start harnessing the power of the web!"
   ]
  }
 ],
 "metadata": {
  "kernelspec": {
   "display_name": "Python 3",
   "language": "python",
   "name": "python3"
  },
  "language_info": {
   "codemirror_mode": {
    "name": "ipython",
    "version": 3
   },
   "file_extension": ".py",
   "mimetype": "text/x-python",
   "name": "python",
   "nbconvert_exporter": "python",
   "pygments_lexer": "ipython3",
   "version": "3.6.6"
  },
  "toc": {
   "base_numbering": 1,
   "nav_menu": {},
   "number_sections": true,
   "sideBar": true,
   "skip_h1_title": false,
   "title_cell": "Table of Contents",
   "title_sidebar": "Contents",
   "toc_cell": true,
   "toc_position": {},
   "toc_section_display": true,
   "toc_window_display": false
  }
 },
 "nbformat": 4,
 "nbformat_minor": 2
}

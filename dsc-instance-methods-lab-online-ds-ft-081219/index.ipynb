{
 "cells": [
  {
   "cell_type": "markdown",
   "metadata": {
    "toc": true
   },
   "source": [
    "<h1>Table of Contents<span class=\"tocSkip\"></span></h1>\n",
    "<div class=\"toc\"><ul class=\"toc-item\"><li><span><a href=\"#Instance-Methods---Lab\" data-toc-modified-id=\"Instance-Methods---Lab-1\"><span class=\"toc-item-num\">1&nbsp;&nbsp;</span>Instance Methods - Lab</a></span><ul class=\"toc-item\"><li><span><a href=\"#Introduction\" data-toc-modified-id=\"Introduction-1.1\"><span class=\"toc-item-num\">1.1&nbsp;&nbsp;</span>Introduction</a></span></li><li><span><a href=\"#Objectives\" data-toc-modified-id=\"Objectives-1.2\"><span class=\"toc-item-num\">1.2&nbsp;&nbsp;</span>Objectives</a></span></li><li><span><a href=\"#Defining-Classes-and-Instance-Methods\" data-toc-modified-id=\"Defining-Classes-and-Instance-Methods-1.3\"><span class=\"toc-item-num\">1.3&nbsp;&nbsp;</span>Defining Classes and Instance Methods</a></span></li><li><span><a href=\"#Instantiate-Instances-and-Practice-Using-Instance-Methods\" data-toc-modified-id=\"Instantiate-Instances-and-Practice-Using-Instance-Methods-1.4\"><span class=\"toc-item-num\">1.4&nbsp;&nbsp;</span>Instantiate Instances and Practice Using Instance Methods</a></span></li><li><span><a href=\"#Extra-Practice\" data-toc-modified-id=\"Extra-Practice-1.5\"><span class=\"toc-item-num\">1.5&nbsp;&nbsp;</span>Extra Practice</a></span></li><li><span><a href=\"#Summary\" data-toc-modified-id=\"Summary-1.6\"><span class=\"toc-item-num\">1.6&nbsp;&nbsp;</span>Summary</a></span></li></ul></li></ul></div>"
   ]
  },
  {
   "cell_type": "markdown",
   "metadata": {},
   "source": [
    "# Instance Methods - Lab"
   ]
  },
  {
   "cell_type": "markdown",
   "metadata": {},
   "source": [
    "## Introduction\n",
    "In the last lesson, you learned more about instance methods -- what are they and how to define them. In this lab, you are going to flesh out the driver and passenger classes by writing your own instance methods on these classes."
   ]
  },
  {
   "cell_type": "markdown",
   "metadata": {},
   "source": [
    "## Objectives\n",
    "\n",
    "You will be able to: \n",
    "\n",
    "* Define classes and instantiate instances of those classes\n",
    "* Define and call instance methods"
   ]
  },
  {
   "cell_type": "markdown",
   "metadata": {},
   "source": [
    "## Defining Classes and Instance Methods"
   ]
  },
  {
   "cell_type": "markdown",
   "metadata": {},
   "source": [
    "In this section, define two classes, `Driver`, `Passenger`. \n",
    "\n",
    "In the `Driver` class, define the instance method `greeting` that returns the string `\"Hey, how are you?\"`. Then define the method `ask_for_destination`, which returns the string `\"Where would you like to go today?\"`. \n",
    "\n",
    "In the `Passenger` class, define the instance method `reply_greeting` that returns the string `\"I am doing well! Thanks for picking me up today!\"`. Then define the method `in_a_hurry`, which returns the string `\"Punch it! They're on our tail!\"`. \n",
    "\n",
    "Define these classes and instance methods in the cells below\n",
    "    \n",
    "> **Remember:** *as we learned in the previous lesson, we need to define our instance methods with at least one argument (`self`) in order to call them on an instance object. Don't worry, we will learn more about this argument in a later lesson.*"
   ]
  },
  {
   "cell_type": "code",
   "execution_count": 1,
   "metadata": {
    "ExecuteTime": {
     "end_time": "2019-09-11T15:51:35.419928Z",
     "start_time": "2019-09-11T15:51:35.374533Z"
    }
   },
   "outputs": [],
   "source": [
    "# Define Driver class here\n",
    "class Driver(object):\n",
    "    def greeting(self):\n",
    "        return \"Hey, how are you?\"\n",
    "    def ask_for_destination(self):\n",
    "        return \"Where would you like to go today?\""
   ]
  },
  {
   "cell_type": "code",
   "execution_count": 2,
   "metadata": {
    "ExecuteTime": {
     "end_time": "2019-09-11T15:51:36.245743Z",
     "start_time": "2019-09-11T15:51:36.239347Z"
    }
   },
   "outputs": [],
   "source": [
    "# Define Passenger class here \n",
    "class Passenger(object):\n",
    "    def reply_greeting(self):\n",
    "        return \"I am doing well! Thanks for picking me up today!\"\n",
    "    def in_a_hurry(self):\n",
    "        return \"Punch it! They're on our tail!\""
   ]
  },
  {
   "cell_type": "markdown",
   "metadata": {},
   "source": [
    "## Instantiate Instances and Practice Using Instance Methods\n",
    "Great! You've defined classes and instance methods. Now, in this section you're going to actually use them!\n",
    "\n",
    "Start by instantiating two drivers and two passengers. Assign the drivers to the variables `daniel` and `meryl` and assign the passengers to `niky` and `terrance`."
   ]
  },
  {
   "cell_type": "code",
   "execution_count": 3,
   "metadata": {
    "ExecuteTime": {
     "end_time": "2019-09-11T15:52:49.101399Z",
     "start_time": "2019-09-11T15:52:49.094897Z"
    }
   },
   "outputs": [],
   "source": [
    "daniel = Driver() # driver\n",
    "meryl = Driver() # driver\n",
    "niky = Passenger() # passenger\n",
    "terrance = Passenger() # passenger"
   ]
  },
  {
   "cell_type": "markdown",
   "metadata": {},
   "source": [
    "Alright, you have our passengers and drivers! Now you need to put those instance methods to use. Try them out and assign the return values to the variables below. Have `daniel` greet his passenger, who is going to be `niky`. Assign the greeting to the variable, `polite_greeting`. Have `niky` respond by calling `in_a_hurry`, and assign the return value to the variable, `no_time_to_talk`."
   ]
  },
  {
   "cell_type": "code",
   "execution_count": 6,
   "metadata": {
    "ExecuteTime": {
     "end_time": "2019-09-11T15:54:24.549103Z",
     "start_time": "2019-09-11T15:54:24.538819Z"
    }
   },
   "outputs": [
    {
     "name": "stdout",
     "output_type": "stream",
     "text": [
      "Hey, how are you?\n"
     ]
    }
   ],
   "source": [
    "polite_greeting = daniel.greeting()\n",
    "print(polite_greeting)"
   ]
  },
  {
   "cell_type": "code",
   "execution_count": 7,
   "metadata": {
    "ExecuteTime": {
     "end_time": "2019-09-11T15:54:37.201501Z",
     "start_time": "2019-09-11T15:54:37.195098Z"
    }
   },
   "outputs": [
    {
     "name": "stdout",
     "output_type": "stream",
     "text": [
      "Punch it! They're on our tail!\n"
     ]
    }
   ],
   "source": [
    "no_time_to_talk = niky.in_a_hurry()\n",
    "print(no_time_to_talk)"
   ]
  },
  {
   "cell_type": "markdown",
   "metadata": {},
   "source": [
    "## Extra Practice\n",
    "\n",
    "Now, let's have some extra practice creating classes, instantiating objects, and using instance methods. \n",
    "\n",
    "In the cells below, you'll create three different classes that represent animals in a zoo--lions, tigers, and elephants.  Each animal should have a method, `speak`, which returns a string containing the sound they make (feel free have some fun with this--we don't know how to spell the sound an elephant makes any better than you do!). "
   ]
  },
  {
   "cell_type": "code",
   "execution_count": 11,
   "metadata": {
    "ExecuteTime": {
     "end_time": "2019-09-11T15:56:55.557222Z",
     "start_time": "2019-09-11T15:56:55.552187Z"
    }
   },
   "outputs": [],
   "source": [
    "# create Lion class\n",
    "class Lion(object):\n",
    "    def speak(self):\n",
    "        return \"rour!\""
   ]
  },
  {
   "cell_type": "code",
   "execution_count": 12,
   "metadata": {
    "ExecuteTime": {
     "end_time": "2019-09-11T15:56:55.774341Z",
     "start_time": "2019-09-11T15:56:55.769871Z"
    }
   },
   "outputs": [],
   "source": [
    "# create Tiger class\n",
    "class Tiger(object):\n",
    "    def speak(self):\n",
    "        return \"They're Great!\""
   ]
  },
  {
   "cell_type": "code",
   "execution_count": 13,
   "metadata": {
    "ExecuteTime": {
     "end_time": "2019-09-11T15:56:56.150668Z",
     "start_time": "2019-09-11T15:56:56.145289Z"
    }
   },
   "outputs": [],
   "source": [
    "# create Elephant class\n",
    "class Elephant(object):\n",
    "    def speak(self):\n",
    "        return \"My ears make me fly!\""
   ]
  },
  {
   "cell_type": "markdown",
   "metadata": {},
   "source": [
    "Now, in the cell below, create an instance of each animal. "
   ]
  },
  {
   "cell_type": "code",
   "execution_count": 14,
   "metadata": {
    "ExecuteTime": {
     "end_time": "2019-09-11T15:56:58.096321Z",
     "start_time": "2019-09-11T15:56:58.091703Z"
    }
   },
   "outputs": [],
   "source": [
    "simba = Lion()\n",
    "tony = Tiger()\n",
    "dumbo = Elephant()"
   ]
  },
  {
   "cell_type": "markdown",
   "metadata": {},
   "source": [
    "Now, append each of them into the list `zoo` in the cell below."
   ]
  },
  {
   "cell_type": "code",
   "execution_count": 15,
   "metadata": {
    "ExecuteTime": {
     "end_time": "2019-09-11T16:00:55.310234Z",
     "start_time": "2019-09-11T16:00:55.304803Z"
    }
   },
   "outputs": [],
   "source": [
    "zoo = []\n",
    "zoo.append(simba)\n",
    "zoo.append(tony)\n",
    "zoo.append(dumbo)"
   ]
  },
  {
   "cell_type": "markdown",
   "metadata": {},
   "source": [
    "Now, loop through the `zoo` list and call print out the `.speak()` method for every animal in the zoo. "
   ]
  },
  {
   "cell_type": "code",
   "execution_count": 25,
   "metadata": {
    "ExecuteTime": {
     "end_time": "2019-09-11T16:03:28.433248Z",
     "start_time": "2019-09-11T16:03:28.408220Z"
    }
   },
   "outputs": [
    {
     "name": "stdout",
     "output_type": "stream",
     "text": [
      "rour!\n",
      "They're Great!\n",
      "My ears make me fly!\n"
     ]
    }
   ],
   "source": [
    "for i in zoo:\n",
    "    speak = i.speak()\n",
    "    print(speak)"
   ]
  },
  {
   "cell_type": "markdown",
   "metadata": {},
   "source": [
    "## Summary\n",
    "In this lab, you practiced defining classes and instance methods. You then instantiated instances of our classes and used them to practice calling our instance methods. "
   ]
  }
 ],
 "metadata": {
  "kernelspec": {
   "display_name": "Python 3",
   "language": "python",
   "name": "python3"
  },
  "language_info": {
   "codemirror_mode": {
    "name": "ipython",
    "version": 3
   },
   "file_extension": ".py",
   "mimetype": "text/x-python",
   "name": "python",
   "nbconvert_exporter": "python",
   "pygments_lexer": "ipython3",
   "version": "3.6.6"
  },
  "toc": {
   "base_numbering": 1,
   "nav_menu": {},
   "number_sections": true,
   "sideBar": true,
   "skip_h1_title": false,
   "title_cell": "Table of Contents",
   "title_sidebar": "Contents",
   "toc_cell": true,
   "toc_position": {},
   "toc_section_display": true,
   "toc_window_display": false
  }
 },
 "nbformat": 4,
 "nbformat_minor": 2
}

{
 "cells": [
  {
   "cell_type": "markdown",
   "metadata": {
    "toc": true
   },
   "source": [
    "<h1>Table of Contents<span class=\"tocSkip\"></span></h1>\n",
    "<div class=\"toc\"><ul class=\"toc-item\"><li><span><a href=\"#Recursive-Functions---Lab\" data-toc-modified-id=\"Recursive-Functions---Lab-1\"><span class=\"toc-item-num\">1&nbsp;&nbsp;</span>Recursive Functions - Lab</a></span><ul class=\"toc-item\"><li><span><a href=\"#Introduction\" data-toc-modified-id=\"Introduction-1.1\"><span class=\"toc-item-num\">1.1&nbsp;&nbsp;</span>Introduction</a></span></li><li><span><a href=\"#Objectives\" data-toc-modified-id=\"Objectives-1.2\"><span class=\"toc-item-num\">1.2&nbsp;&nbsp;</span>Objectives</a></span></li><li><span><a href=\"#Fibonacci\" data-toc-modified-id=\"Fibonacci-1.3\"><span class=\"toc-item-num\">1.3&nbsp;&nbsp;</span>Fibonacci</a></span></li><li><span><a href=\"#Flat-List\" data-toc-modified-id=\"Flat-List-1.4\"><span class=\"toc-item-num\">1.4&nbsp;&nbsp;</span>Flat List</a></span></li><li><span><a href=\"#Depth-vs-Breadth-First-Search\" data-toc-modified-id=\"Depth-vs-Breadth-First-Search-1.5\"><span class=\"toc-item-num\">1.5&nbsp;&nbsp;</span>Depth vs Breadth First Search</a></span></li><li><span><a href=\"#Summary\" data-toc-modified-id=\"Summary-1.6\"><span class=\"toc-item-num\">1.6&nbsp;&nbsp;</span>Summary</a></span></li></ul></li></ul></div>"
   ]
  },
  {
   "cell_type": "markdown",
   "metadata": {},
   "source": [
    "# Recursive Functions - Lab\n",
    "\n",
    "## Introduction\n",
    "\n",
    "Now that you've seen a little preview of recursive functions, it's time to give them a try!\n",
    "\n",
    "## Objectives\n",
    "You will be able to:\n",
    "* Understand and use the concept of a recursive function \n",
    "* Understand scope in the context of recursive functions\n",
    "* Understand and compare depth first versus breadth first searches\n",
    "\n",
    "## Fibonacci\n",
    "\n",
    "The Fibonacci sequence starts off:\n",
    "1,1,2,3,5,8,13,21,34,...\n",
    "\n",
    "Each number is the sum of the two preceding. Write a recursive function that calculates the nth number of the Fibonacci sequence. For example, our sequence above would correspond to:\n",
    "\n",
    "fib(1) = 1 #The 1st element in the sequence is 1\n",
    "\n",
    "fib(2) = 1 #The 2nd element in the sequence is 1\n",
    "\n",
    "fib(3) = 2 #The 3rd element in the sequence is 2\n",
    "\n",
    "fib(4) = 3 #The 4th element in the sequence is 3\n",
    "\n",
    "fib(5) = 5 #The 5th element in the sequence is 5\n",
    "\n",
    "fib(6) = 8 #The 6th element in the sequence is 8\n",
    "\n",
    "fib(7) = 13 #The 7th element in the sequence is 13\n",
    "\n",
    "fib(8) = 21 #The 8th element in the sequence is 21\n",
    "\n",
    "fib(9) = 34 #The 9th element in the sequence is 34"
   ]
  },
  {
   "cell_type": "code",
   "execution_count": 11,
   "metadata": {
    "ExecuteTime": {
     "end_time": "2019-09-12T18:55:56.121260Z",
     "start_time": "2019-09-12T18:55:56.108465Z"
    }
   },
   "outputs": [
    {
     "name": "stdout",
     "output_type": "stream",
     "text": [
      "1\n",
      "1\n",
      "2\n",
      "3\n",
      "5\n",
      "8\n",
      "13\n",
      "21\n",
      "34\n"
     ]
    }
   ],
   "source": [
    "#Your code here\n",
    "def fib(n):\n",
    "    if n < 1:\n",
    "        return \"N must be greater then 1\"\n",
    "    elif n in [1,2]:\n",
    "        return 1\n",
    "    else:\n",
    "        return fib(n-1) + fib(n-2)\n",
    "for i in range(1, 10):\n",
    "    print(fib(i))"
   ]
  },
  {
   "cell_type": "markdown",
   "metadata": {},
   "source": [
    "## Flat List\n",
    "\n",
    "Write a function that takes a nested list and flattens it to a list of ints, floats and strings.\n",
    "For example the nested list [1,[2,3[4,5,6]], 7, [8], [9,10]] would become [1,2,3,4,5,6,7,8,9,10] or \n",
    "[1,2[3,4,[5]]] would become [1,2,3,4,5].\n",
    "\n",
    "> **Note**: Be careful how you initialize your function! See [this link](https://docs.quantifiedcode.com/python-anti-patterns/correctness/mutable_default_value_as_argument.html) for some potential pitfalls you could encounter if you're not careful!"
   ]
  },
  {
   "cell_type": "code",
   "execution_count": 12,
   "metadata": {
    "ExecuteTime": {
     "end_time": "2019-09-12T18:56:15.136711Z",
     "start_time": "2019-09-12T18:56:15.116180Z"
    }
   },
   "outputs": [
    {
     "name": "stdout",
     "output_type": "stream",
     "text": [
      "Current L: [1, [2, 3, [4, 5, 6]], 7, [8], [9, 10]]\n",
      "Current L: [2, 3, [4, 5, 6]]\n",
      "Current L: [4, 5, 6]\n",
      "Current L: [8]\n",
      "Current L: [9, 10]\n"
     ]
    },
    {
     "data": {
      "text/plain": [
       "[1, 2, 3, 4, 5, 6, 7, 8, 9, 10]"
      ]
     },
     "execution_count": 12,
     "metadata": {},
     "output_type": "execute_result"
    }
   ],
   "source": [
    "#Your code here\n",
    "def flat_list(L, result=None, print_results=True):\n",
    "    if result is None:\n",
    "        result = []\n",
    "    if print_results:\n",
    "        print('Current L:', L) #Optional, to display process\n",
    "    for i in L:\n",
    "        if type(i) == list:\n",
    "            flat_list(i, result)\n",
    "        else:\n",
    "            result.append(i)\n",
    "    return result\n",
    "L = [1,[2,3,[4,5,6]], 7, [8], [9,10]]\n",
    "flat_list(L)"
   ]
  },
  {
   "cell_type": "markdown",
   "metadata": {},
   "source": [
    "## Depth vs Breadth First Search\n",
    "\n",
    "Did you use breadth or depth first recursive calls above? Explain."
   ]
  },
  {
   "cell_type": "code",
   "execution_count": null,
   "metadata": {},
   "outputs": [],
   "source": [
    "#Your answer here.\n",
    "# Depth first search navigates down a nested data structure, \n",
    "# while breadth first goes one layer at a time, \n",
    "# successively deeper but processing an entire layer before moving on to deeper layers."
   ]
  },
  {
   "cell_type": "markdown",
   "metadata": {},
   "source": [
    "## Summary\n",
    "Well done! Recursive functions are an advanced topic in Python and you got some good practice tackling classic problems here."
   ]
  }
 ],
 "metadata": {
  "kernelspec": {
   "display_name": "Python 3",
   "language": "python",
   "name": "python3"
  },
  "language_info": {
   "codemirror_mode": {
    "name": "ipython",
    "version": 3
   },
   "file_extension": ".py",
   "mimetype": "text/x-python",
   "name": "python",
   "nbconvert_exporter": "python",
   "pygments_lexer": "ipython3",
   "version": "3.6.6"
  },
  "toc": {
   "base_numbering": 1,
   "nav_menu": {},
   "number_sections": true,
   "sideBar": true,
   "skip_h1_title": false,
   "title_cell": "Table of Contents",
   "title_sidebar": "Contents",
   "toc_cell": true,
   "toc_position": {},
   "toc_section_display": true,
   "toc_window_display": false
  }
 },
 "nbformat": 4,
 "nbformat_minor": 2
}
